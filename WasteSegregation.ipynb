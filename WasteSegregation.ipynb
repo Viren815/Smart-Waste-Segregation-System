{
  "nbformat": 4,
  "nbformat_minor": 0,
  "metadata": {
    "colab": {
      "name": "WasteSegregation.ipynb",
      "provenance": []
    },
    "kernelspec": {
      "name": "python3",
      "display_name": "Python 3"
    },
    "accelerator": "GPU"
  },
  "cells": [
    {
      "cell_type": "code",
      "metadata": {
        "id": "Ob7MuYGQSlJr",
        "colab": {
          "base_uri": "https://localhost:8080/",
          "height": 122
        },
        "outputId": "0eeb314a-a65d-44a4-ba6b-ce33af54ed52"
      },
      "source": [
        "from google.colab import drive\n",
        "drive.mount('/content/drive')"
      ],
      "execution_count": null,
      "outputs": [
        {
          "output_type": "stream",
          "text": [
            "Go to this URL in a browser: https://accounts.google.com/o/oauth2/auth?client_id=947318989803-6bn6qk8qdgf4n4g3pfee6491hc0brc4i.apps.googleusercontent.com&redirect_uri=urn%3aietf%3awg%3aoauth%3a2.0%3aoob&response_type=code&scope=email%20https%3a%2f%2fwww.googleapis.com%2fauth%2fdocs.test%20https%3a%2f%2fwww.googleapis.com%2fauth%2fdrive%20https%3a%2f%2fwww.googleapis.com%2fauth%2fdrive.photos.readonly%20https%3a%2f%2fwww.googleapis.com%2fauth%2fpeopleapi.readonly\n",
            "\n",
            "Enter your authorization code:\n",
            "··········\n",
            "Mounted at /content/drive\n"
          ],
          "name": "stdout"
        }
      ]
    },
    {
      "cell_type": "code",
      "metadata": {
        "id": "7Sz8t7ugTFEe",
        "colab": {
          "base_uri": "https://localhost:8080/",
          "height": 34
        },
        "outputId": "fb95137c-d3c5-4fa5-97ba-64116631c83b"
      },
      "source": [
        "from google.colab import drive\n",
        "drive.mount('/content/drive')"
      ],
      "execution_count": null,
      "outputs": [
        {
          "output_type": "stream",
          "text": [
            "Drive already mounted at /content/drive; to attempt to forcibly remount, call drive.mount(\"/content/drive\", force_remount=True).\n"
          ],
          "name": "stdout"
        }
      ]
    },
    {
      "cell_type": "code",
      "metadata": {
        "id": "A5aUIgmvCe9_",
        "colab": {
          "base_uri": "https://localhost:8080/",
          "height": 153
        },
        "outputId": "d0d1f7c2-8e61-48c0-b4fd-a921ac6ce056"
      },
      "source": [
        "pip install keras"
      ],
      "execution_count": null,
      "outputs": [
        {
          "output_type": "stream",
          "text": [
            "Requirement already satisfied: keras in /usr/local/lib/python3.6/dist-packages (2.3.1)\n",
            "Requirement already satisfied: keras-preprocessing>=1.0.5 in /usr/local/lib/python3.6/dist-packages (from keras) (1.1.2)\n",
            "Requirement already satisfied: six>=1.9.0 in /usr/local/lib/python3.6/dist-packages (from keras) (1.12.0)\n",
            "Requirement already satisfied: h5py in /usr/local/lib/python3.6/dist-packages (from keras) (2.10.0)\n",
            "Requirement already satisfied: numpy>=1.9.1 in /usr/local/lib/python3.6/dist-packages (from keras) (1.18.5)\n",
            "Requirement already satisfied: scipy>=0.14 in /usr/local/lib/python3.6/dist-packages (from keras) (1.4.1)\n",
            "Requirement already satisfied: pyyaml in /usr/local/lib/python3.6/dist-packages (from keras) (3.13)\n",
            "Requirement already satisfied: keras-applications>=1.0.6 in /usr/local/lib/python3.6/dist-packages (from keras) (1.0.8)\n"
          ],
          "name": "stdout"
        }
      ]
    },
    {
      "cell_type": "code",
      "metadata": {
        "id": "al_oRM0-CuJi"
      },
      "source": [
        "import numpy as np\n",
        "import cv2\n",
        "import keras\n",
        "from keras.callbacks import ModelCheckpoint,EarlyStopping\n",
        "from keras.layers import Conv2D, Flatten, MaxPooling2D,Dense,Dropout,SpatialDropout2D\n",
        "from keras.models  import Sequential\n",
        "from keras.preprocessing.image import ImageDataGenerator, img_to_array, load_img, array_to_img\n",
        "import random,os,glob\n",
        "import matplotlib.pyplot as plt"
      ],
      "execution_count": null,
      "outputs": []
    },
    {
      "cell_type": "code",
      "metadata": {
        "id": "Uay1bMZnDP6n"
      },
      "source": [
        "import tensorflow as tf\n",
        "import numpy as np\n",
        "import pandas as pd\n",
        "from keras.preprocessing.image import ImageDataGenerator\n",
        "from keras.optimizers import SGD\n",
        "from keras.models import Sequential,Model\n",
        "from keras.layers import Activation,Dense,Flatten,Dropout,MaxPooling2D,GlobalAveragePooling2D\n",
        "import shutil as sh\n",
        "import os\n",
        "from keras.applications.xception import Xception\n",
        "from PIL import Image\n",
        "from keras.preprocessing import image"
      ],
      "execution_count": null,
      "outputs": []
    },
    {
      "cell_type": "code",
      "metadata": {
        "id": "Z8fF2GjCDBdr"
      },
      "source": [
        "dir_path = '/content/drive/My Drive/Colab Notebooks/Dataset/training_set'\n",
        "dir_path2 = '/content/drive/My Drive/Colab Notebooks/Dataset/test_set' \n"
      ],
      "execution_count": null,
      "outputs": []
    },
    {
      "cell_type": "code",
      "metadata": {
        "id": "o-V4-9f8oHKF"
      },
      "source": [
        "img_list = glob.glob(os.path.join(dir_path, '*/*.jpg'))"
      ],
      "execution_count": null,
      "outputs": []
    },
    {
      "cell_type": "code",
      "metadata": {
        "id": "6f3OPv47oMGK",
        "colab": {
          "base_uri": "https://localhost:8080/",
          "height": 34
        },
        "outputId": "d68e0a74-29ec-49e5-bfc4-4ddef0a0a79b"
      },
      "source": [
        "len(img_list)"
      ],
      "execution_count": null,
      "outputs": [
        {
          "output_type": "execute_result",
          "data": {
            "text/plain": [
              "1314"
            ]
          },
          "metadata": {
            "tags": []
          },
          "execution_count": 8
        }
      ]
    },
    {
      "cell_type": "code",
      "metadata": {
        "id": "2ysDnAVkDIgC",
        "colab": {
          "base_uri": "https://localhost:8080/",
          "height": 85
        },
        "outputId": "2559cefd-a3fa-4cfd-d585-43e045b37c39"
      },
      "source": [
        "  train=ImageDataGenerator(horizontal_flip=True,\n",
        "                          vertical_flip=True,\n",
        "                          validation_split=0.1,\n",
        "                          rescale=1./255,\n",
        "                          shear_range = 0.1,\n",
        "                          zoom_range = 0.1,\n",
        "                          width_shift_range = 0.1,\n",
        "                          height_shift_range = 0.1,)\n",
        "\n",
        "  test=ImageDataGenerator(rescale=1/255,\n",
        "                          validation_split=0.1)\n",
        "\n",
        "  train_generator=train.flow_from_directory(dir_path,\n",
        "                                            target_size=(300,300),\n",
        "                                            batch_size=32,\n",
        "                                            class_mode='categorical',\n",
        "                                            subset='training')\n",
        "\n",
        "  test_generator=test.flow_from_directory(dir_path,\n",
        "                                          target_size=(300,300),\n",
        "                                          batch_size=32,\n",
        "                                          class_mode='categorical',\n",
        "                                          subset='validation')\n",
        "\n",
        "  labels = (train_generator.class_indices)\n",
        "  print(labels)\n",
        "\n",
        "  labels = dict((v,k) for k,v in labels.items())\n",
        "  print(labels)"
      ],
      "execution_count": null,
      "outputs": [
        {
          "output_type": "stream",
          "text": [
            "Found 1185 images belonging to 6 classes.\n",
            "Found 129 images belonging to 6 classes.\n",
            "{'cardboard': 0, 'glass': 1, 'metal': 2, 'paper': 3, 'plastic': 4, 'trash': 5}\n",
            "{0: 'cardboard', 1: 'glass', 2: 'metal', 3: 'paper', 4: 'plastic', 5: 'trash'}\n"
          ],
          "name": "stdout"
        }
      ]
    },
    {
      "cell_type": "code",
      "metadata": {
        "id": "o7bN2NvFoyCl",
        "colab": {
          "base_uri": "https://localhost:8080/",
          "height": 34
        },
        "outputId": "599c3b06-7f5d-498e-fb76-1a320287c539"
      },
      "source": [
        "for image_batch, label_batch in train_generator:\n",
        "  break\n",
        "image_batch.shape, label_batch.shape"
      ],
      "execution_count": null,
      "outputs": [
        {
          "output_type": "execute_result",
          "data": {
            "text/plain": [
              "((32, 300, 300, 3), (32, 6))"
            ]
          },
          "metadata": {
            "tags": []
          },
          "execution_count": 10
        }
      ]
    },
    {
      "cell_type": "code",
      "metadata": {
        "id": "gUJfDzgWEi4I",
        "colab": {
          "base_uri": "https://localhost:8080/",
          "height": 34
        },
        "outputId": "3761fce8-1f85-4765-f808-3594455be2da"
      },
      "source": [
        "print (train_generator.class_indices)\n",
        "\n",
        "Labels = '\\n'.join(sorted(train_generator.class_indices.keys()))\n",
        "\n",
        "with open('labels.txt', 'w') as f:\n",
        "  f.write(Labels)\n"
      ],
      "execution_count": null,
      "outputs": [
        {
          "output_type": "stream",
          "text": [
            "{'cardboard': 0, 'glass': 1, 'metal': 2, 'paper': 3, 'plastic': 4, 'trash': 5}\n"
          ],
          "name": "stdout"
        }
      ]
    },
    {
      "cell_type": "code",
      "metadata": {
        "id": "COuHkcWxkjNU"
      },
      "source": [
        "model=Sequential()\n",
        "#Convolution blocks\n",
        "\n",
        "model.add(Conv2D(32,(3,3), padding='same',input_shape=(300,300,3),activation='relu'))\n",
        "model.add(MaxPooling2D(pool_size=2)) \n",
        "#model.add(SpatialDropout2D(0.5)) # No accuracy\n",
        "\n",
        "model.add(Conv2D(64,(3,3), padding='same',activation='relu'))\n",
        "model.add(MaxPooling2D(pool_size=2)) \n",
        "#model.add(SpatialDropout2D(0.5))\n",
        "\n",
        "model.add(Conv2D(32,(3,3), padding='same',activation='relu'))\n",
        "model.add(MaxPooling2D(pool_size=2)) \n",
        "\n",
        "#Classification layers\n",
        "model.add(Flatten())\n",
        "\n",
        "model.add(Dense(64,activation='relu'))\n",
        "#model.add(SpatialDropout2D(0.5))\n",
        "model.add(Dropout(0.2))\n",
        "model.add(Dense(32,activation='relu'))\n",
        "\n",
        "model.add(Dropout(0.2))\n",
        "model.add(Dense(6,activation='softmax'))\n",
        "\n",
        "filepath=\"trained_model.h5\"\n",
        "checkpoint1 = ModelCheckpoint(filepath, monitor='val_acc', verbose=1, save_best_only=True, mode='max')\n",
        "callbacks_list = [checkpoint1]"
      ],
      "execution_count": null,
      "outputs": []
    },
    {
      "cell_type": "code",
      "metadata": {
        "id": "idW-HXU_D8MT",
        "colab": {
          "base_uri": "https://localhost:8080/",
          "height": 561
        },
        "outputId": "c1397c40-9b8f-4651-bc0f-13494eb73d3b"
      },
      "source": [
        "model.summary()"
      ],
      "execution_count": null,
      "outputs": [
        {
          "output_type": "stream",
          "text": [
            "Model: \"sequential_1\"\n",
            "_________________________________________________________________\n",
            "Layer (type)                 Output Shape              Param #   \n",
            "=================================================================\n",
            "conv2d_1 (Conv2D)            (None, 300, 300, 32)      896       \n",
            "_________________________________________________________________\n",
            "max_pooling2d_1 (MaxPooling2 (None, 150, 150, 32)      0         \n",
            "_________________________________________________________________\n",
            "conv2d_2 (Conv2D)            (None, 150, 150, 64)      18496     \n",
            "_________________________________________________________________\n",
            "max_pooling2d_2 (MaxPooling2 (None, 75, 75, 64)        0         \n",
            "_________________________________________________________________\n",
            "conv2d_3 (Conv2D)            (None, 75, 75, 32)        18464     \n",
            "_________________________________________________________________\n",
            "max_pooling2d_3 (MaxPooling2 (None, 37, 37, 32)        0         \n",
            "_________________________________________________________________\n",
            "flatten_1 (Flatten)          (None, 43808)             0         \n",
            "_________________________________________________________________\n",
            "dense_1 (Dense)              (None, 64)                2803776   \n",
            "_________________________________________________________________\n",
            "dropout_1 (Dropout)          (None, 64)                0         \n",
            "_________________________________________________________________\n",
            "dense_2 (Dense)              (None, 32)                2080      \n",
            "_________________________________________________________________\n",
            "dropout_2 (Dropout)          (None, 32)                0         \n",
            "_________________________________________________________________\n",
            "dense_3 (Dense)              (None, 6)                 198       \n",
            "=================================================================\n",
            "Total params: 2,843,910\n",
            "Trainable params: 2,843,910\n",
            "Non-trainable params: 0\n",
            "_________________________________________________________________\n"
          ],
          "name": "stdout"
        }
      ]
    },
    {
      "cell_type": "code",
      "metadata": {
        "id": "s9l4SCrdDlNp"
      },
      "source": [
        "model.compile(loss='categorical_crossentropy',\n",
        "              optimizer='adam',\n",
        "              metrics=['acc'])"
      ],
      "execution_count": null,
      "outputs": []
    },
    {
      "cell_type": "code",
      "metadata": {
        "id": "BoLQj77anYSI",
        "colab": {
          "base_uri": "https://localhost:8080/",
          "height": 1000
        },
        "outputId": "a4af4794-cb05-4c08-bba4-f1571ca36c54"
      },
      "source": [
        "history = model.fit_generator(train_generator,\n",
        "                              epochs=100,\n",
        "                              steps_per_epoch=2276//32,\n",
        "                              validation_data=test_generator,\n",
        "                              validation_steps=251//32,\n",
        "                              workers = 4,\n",
        "                              callbacks=callbacks_list) "
      ],
      "execution_count": null,
      "outputs": [
        {
          "output_type": "stream",
          "text": [
            "Epoch 1/100\n",
            "71/71 [==============================] - 182s 3s/step - loss: 1.7517 - acc: 0.2652 - val_loss: 1.7137 - val_acc: 0.2902\n",
            "\n",
            "Epoch 00001: val_acc improved from -inf to 0.29016, saving model to trained_model.h5\n",
            "Epoch 2/100\n",
            "71/71 [==============================] - 48s 669ms/step - loss: 1.6599 - acc: 0.2706 - val_loss: 1.6664 - val_acc: 0.3005\n",
            "\n",
            "Epoch 00002: val_acc improved from 0.29016 to 0.30052, saving model to trained_model.h5\n",
            "Epoch 3/100\n",
            "71/71 [==============================] - 50s 706ms/step - loss: 1.6259 - acc: 0.2869 - val_loss: 1.5471 - val_acc: 0.3395\n",
            "\n",
            "Epoch 00003: val_acc improved from 0.30052 to 0.33951, saving model to trained_model.h5\n",
            "Epoch 4/100\n",
            "71/71 [==============================] - 49s 685ms/step - loss: 1.5827 - acc: 0.2878 - val_loss: 1.2133 - val_acc: 0.4352\n",
            "\n",
            "Epoch 00004: val_acc improved from 0.33951 to 0.43523, saving model to trained_model.h5\n",
            "Epoch 5/100\n",
            "71/71 [==============================] - 47s 657ms/step - loss: 1.4874 - acc: 0.3502 - val_loss: 2.8991 - val_acc: 0.4074\n",
            "\n",
            "Epoch 00005: val_acc did not improve from 0.43523\n",
            "Epoch 6/100\n",
            "71/71 [==============================] - 47s 657ms/step - loss: 1.4176 - acc: 0.3786 - val_loss: 1.3515 - val_acc: 0.4560\n",
            "\n",
            "Epoch 00006: val_acc improved from 0.43523 to 0.45596, saving model to trained_model.h5\n",
            "Epoch 7/100\n",
            "71/71 [==============================] - 48s 681ms/step - loss: 1.4364 - acc: 0.4025 - val_loss: 1.3195 - val_acc: 0.5855\n",
            "\n",
            "Epoch 00007: val_acc improved from 0.45596 to 0.58549, saving model to trained_model.h5\n",
            "Epoch 8/100\n",
            "71/71 [==============================] - 48s 677ms/step - loss: 1.3590 - acc: 0.4281 - val_loss: 1.1392 - val_acc: 0.5432\n",
            "\n",
            "Epoch 00008: val_acc did not improve from 0.58549\n",
            "Epoch 9/100\n",
            "71/71 [==============================] - 49s 687ms/step - loss: 1.3059 - acc: 0.4805 - val_loss: 1.1252 - val_acc: 0.5803\n",
            "\n",
            "Epoch 00009: val_acc did not improve from 0.58549\n",
            "Epoch 10/100\n",
            "71/71 [==============================] - 48s 676ms/step - loss: 1.2479 - acc: 0.4824 - val_loss: 3.7152 - val_acc: 0.5864\n",
            "\n",
            "Epoch 00010: val_acc improved from 0.58549 to 0.58642, saving model to trained_model.h5\n",
            "Epoch 11/100\n",
            "71/71 [==============================] - 47s 659ms/step - loss: 1.2107 - acc: 0.4911 - val_loss: 1.1634 - val_acc: 0.5699\n",
            "\n",
            "Epoch 00011: val_acc did not improve from 0.58642\n",
            "Epoch 12/100\n",
            "71/71 [==============================] - 49s 689ms/step - loss: 1.2045 - acc: 0.5141 - val_loss: 1.1524 - val_acc: 0.5803\n",
            "\n",
            "Epoch 00012: val_acc did not improve from 0.58642\n",
            "Epoch 13/100\n",
            "71/71 [==============================] - 50s 703ms/step - loss: 1.2119 - acc: 0.5100 - val_loss: 0.9478 - val_acc: 0.6235\n",
            "\n",
            "Epoch 00013: val_acc improved from 0.58642 to 0.62346, saving model to trained_model.h5\n",
            "Epoch 14/100\n",
            "71/71 [==============================] - 47s 667ms/step - loss: 1.1781 - acc: 0.5176 - val_loss: 1.0436 - val_acc: 0.6166\n",
            "\n",
            "Epoch 00014: val_acc did not improve from 0.62346\n",
            "Epoch 15/100\n",
            "71/71 [==============================] - 48s 680ms/step - loss: 1.0865 - acc: 0.5489 - val_loss: 0.6928 - val_acc: 0.6728\n",
            "\n",
            "Epoch 00015: val_acc improved from 0.62346 to 0.67284, saving model to trained_model.h5\n",
            "Epoch 16/100\n",
            "71/71 [==============================] - 47s 667ms/step - loss: 1.0600 - acc: 0.5756 - val_loss: 1.0311 - val_acc: 0.5751\n",
            "\n",
            "Epoch 00016: val_acc did not improve from 0.67284\n",
            "Epoch 17/100\n",
            "71/71 [==============================] - 47s 657ms/step - loss: 1.0759 - acc: 0.5584 - val_loss: 0.9846 - val_acc: 0.6477\n",
            "\n",
            "Epoch 00017: val_acc did not improve from 0.67284\n",
            "Epoch 18/100\n",
            "71/71 [==============================] - 49s 693ms/step - loss: 1.0604 - acc: 0.5743 - val_loss: 0.9252 - val_acc: 0.6296\n",
            "\n",
            "Epoch 00018: val_acc did not improve from 0.67284\n",
            "Epoch 19/100\n",
            "71/71 [==============================] - 47s 657ms/step - loss: 0.9953 - acc: 0.6113 - val_loss: 0.9390 - val_acc: 0.6321\n",
            "\n",
            "Epoch 00019: val_acc did not improve from 0.67284\n",
            "Epoch 20/100\n",
            "71/71 [==============================] - 47s 669ms/step - loss: 1.0484 - acc: 0.5904 - val_loss: 0.3406 - val_acc: 0.6049\n",
            "\n",
            "Epoch 00020: val_acc did not improve from 0.67284\n",
            "Epoch 21/100\n",
            "71/71 [==============================] - 47s 663ms/step - loss: 0.9874 - acc: 0.6118 - val_loss: 0.9463 - val_acc: 0.5855\n",
            "\n",
            "Epoch 00021: val_acc did not improve from 0.67284\n",
            "Epoch 22/100\n",
            "71/71 [==============================] - 46s 643ms/step - loss: 0.9409 - acc: 0.6249 - val_loss: 0.7436 - val_acc: 0.6788\n",
            "\n",
            "Epoch 00022: val_acc improved from 0.67284 to 0.67876, saving model to trained_model.h5\n",
            "Epoch 23/100\n",
            "71/71 [==============================] - 47s 656ms/step - loss: 0.9132 - acc: 0.6552 - val_loss: 1.0659 - val_acc: 0.5926\n",
            "\n",
            "Epoch 00023: val_acc did not improve from 0.67876\n",
            "Epoch 24/100\n",
            "71/71 [==============================] - 48s 681ms/step - loss: 0.8919 - acc: 0.6665 - val_loss: 0.9367 - val_acc: 0.6839\n",
            "\n",
            "Epoch 00024: val_acc improved from 0.67876 to 0.68394, saving model to trained_model.h5\n",
            "Epoch 25/100\n",
            "71/71 [==============================] - 47s 668ms/step - loss: 0.8795 - acc: 0.6743 - val_loss: 1.2714 - val_acc: 0.7099\n",
            "\n",
            "Epoch 00025: val_acc improved from 0.68394 to 0.70988, saving model to trained_model.h5\n",
            "Epoch 26/100\n",
            "71/71 [==============================] - 47s 669ms/step - loss: 0.8557 - acc: 0.6824 - val_loss: 0.7584 - val_acc: 0.6528\n",
            "\n",
            "Epoch 00026: val_acc did not improve from 0.70988\n",
            "Epoch 27/100\n",
            "71/71 [==============================] - 48s 677ms/step - loss: 0.8720 - acc: 0.6760 - val_loss: 0.9296 - val_acc: 0.6632\n",
            "\n",
            "Epoch 00027: val_acc did not improve from 0.70988\n",
            "Epoch 28/100\n",
            "71/71 [==============================] - 46s 655ms/step - loss: 0.8987 - acc: 0.6838 - val_loss: 1.1262 - val_acc: 0.5988\n",
            "\n",
            "Epoch 00028: val_acc did not improve from 0.70988\n",
            "Epoch 29/100\n",
            "71/71 [==============================] - 47s 665ms/step - loss: 0.8242 - acc: 0.6952 - val_loss: 0.8402 - val_acc: 0.6373\n",
            "\n",
            "Epoch 00029: val_acc did not improve from 0.70988\n",
            "Epoch 30/100\n",
            "71/71 [==============================] - 48s 670ms/step - loss: 0.8713 - acc: 0.6855 - val_loss: 0.0130 - val_acc: 0.6605\n",
            "\n",
            "Epoch 00030: val_acc did not improve from 0.70988\n",
            "Epoch 31/100\n",
            "71/71 [==============================] - 46s 654ms/step - loss: 0.7560 - acc: 0.7180 - val_loss: 0.8680 - val_acc: 0.6684\n",
            "\n",
            "Epoch 00031: val_acc did not improve from 0.70988\n",
            "Epoch 32/100\n",
            "71/71 [==============================] - 47s 664ms/step - loss: 0.8078 - acc: 0.6962 - val_loss: 0.8579 - val_acc: 0.6839\n",
            "\n",
            "Epoch 00032: val_acc did not improve from 0.70988\n",
            "Epoch 33/100\n",
            "71/71 [==============================] - 49s 686ms/step - loss: 0.8236 - acc: 0.7068 - val_loss: 0.6856 - val_acc: 0.6543\n",
            "\n",
            "Epoch 00033: val_acc did not improve from 0.70988\n",
            "Epoch 34/100\n",
            "71/71 [==============================] - 45s 639ms/step - loss: 0.8874 - acc: 0.6742 - val_loss: 0.8677 - val_acc: 0.6684\n",
            "\n",
            "Epoch 00034: val_acc did not improve from 0.70988\n",
            "Epoch 35/100\n",
            "71/71 [==============================] - 47s 665ms/step - loss: 0.7840 - acc: 0.6950 - val_loss: 5.8646e-04 - val_acc: 0.7160\n",
            "\n",
            "Epoch 00035: val_acc improved from 0.70988 to 0.71605, saving model to trained_model.h5\n",
            "Epoch 36/100\n",
            "71/71 [==============================] - 48s 677ms/step - loss: 0.7302 - acc: 0.7231 - val_loss: 0.7992 - val_acc: 0.6580\n",
            "\n",
            "Epoch 00036: val_acc did not improve from 0.71605\n",
            "Epoch 37/100\n",
            "71/71 [==============================] - 47s 667ms/step - loss: 0.6933 - acc: 0.7381 - val_loss: 0.5613 - val_acc: 0.7876\n",
            "\n",
            "Epoch 00037: val_acc improved from 0.71605 to 0.78756, saving model to trained_model.h5\n",
            "Epoch 38/100\n",
            "71/71 [==============================] - 47s 662ms/step - loss: 0.6734 - acc: 0.7507 - val_loss: 0.6026 - val_acc: 0.7531\n",
            "\n",
            "Epoch 00038: val_acc did not improve from 0.78756\n",
            "Epoch 39/100\n",
            "71/71 [==============================] - 47s 665ms/step - loss: 0.7133 - acc: 0.7276 - val_loss: 0.6451 - val_acc: 0.6943\n",
            "\n",
            "Epoch 00039: val_acc did not improve from 0.78756\n",
            "Epoch 40/100\n",
            "71/71 [==============================] - 48s 682ms/step - loss: 0.6928 - acc: 0.7340 - val_loss: 0.2313 - val_acc: 0.7099\n",
            "\n",
            "Epoch 00040: val_acc did not improve from 0.78756\n",
            "Epoch 41/100\n",
            "71/71 [==============================] - 48s 677ms/step - loss: 0.7269 - acc: 0.7398 - val_loss: 0.8221 - val_acc: 0.6580\n",
            "\n",
            "Epoch 00041: val_acc did not improve from 0.78756\n",
            "Epoch 42/100\n",
            "71/71 [==============================] - 48s 680ms/step - loss: 0.7457 - acc: 0.7332 - val_loss: 0.6982 - val_acc: 0.7772\n",
            "\n",
            "Epoch 00042: val_acc did not improve from 0.78756\n",
            "Epoch 43/100\n",
            "71/71 [==============================] - 47s 664ms/step - loss: 0.9066 - acc: 0.6778 - val_loss: 1.0774 - val_acc: 0.7037\n",
            "\n",
            "Epoch 00043: val_acc did not improve from 0.78756\n",
            "Epoch 44/100\n",
            "71/71 [==============================] - 48s 671ms/step - loss: 0.7207 - acc: 0.7376 - val_loss: 0.5739 - val_acc: 0.6995\n",
            "\n",
            "Epoch 00044: val_acc did not improve from 0.78756\n",
            "Epoch 45/100\n",
            "71/71 [==============================] - 49s 688ms/step - loss: 0.6492 - acc: 0.7502 - val_loss: 0.0311 - val_acc: 0.7222\n",
            "\n",
            "Epoch 00045: val_acc did not improve from 0.78756\n",
            "Epoch 46/100\n",
            "71/71 [==============================] - 48s 669ms/step - loss: 0.6757 - acc: 0.7638 - val_loss: 0.7790 - val_acc: 0.6995\n",
            "\n",
            "Epoch 00046: val_acc did not improve from 0.78756\n",
            "Epoch 47/100\n",
            "71/71 [==============================] - 49s 692ms/step - loss: 0.6737 - acc: 0.7523 - val_loss: 1.1738 - val_acc: 0.6943\n",
            "\n",
            "Epoch 00047: val_acc did not improve from 0.78756\n",
            "Epoch 48/100\n",
            "71/71 [==============================] - 49s 688ms/step - loss: 0.6156 - acc: 0.7655 - val_loss: 0.7443 - val_acc: 0.7531\n",
            "\n",
            "Epoch 00048: val_acc did not improve from 0.78756\n",
            "Epoch 49/100\n",
            "71/71 [==============================] - 46s 644ms/step - loss: 0.6021 - acc: 0.7738 - val_loss: 1.0435 - val_acc: 0.6891\n",
            "\n",
            "Epoch 00049: val_acc did not improve from 0.78756\n",
            "Epoch 50/100\n",
            "71/71 [==============================] - 47s 668ms/step - loss: 0.8445 - acc: 0.7109 - val_loss: 2.7775 - val_acc: 0.6296\n",
            "\n",
            "Epoch 00050: val_acc did not improve from 0.78756\n",
            "Epoch 51/100\n",
            "71/71 [==============================] - 48s 680ms/step - loss: 0.8388 - acc: 0.6845 - val_loss: 0.9013 - val_acc: 0.7202\n",
            "\n",
            "Epoch 00051: val_acc did not improve from 0.78756\n",
            "Epoch 52/100\n",
            "71/71 [==============================] - 48s 676ms/step - loss: 0.6539 - acc: 0.7729 - val_loss: 0.7726 - val_acc: 0.7876\n",
            "\n",
            "Epoch 00052: val_acc did not improve from 0.78756\n",
            "Epoch 53/100\n",
            "71/71 [==============================] - 49s 687ms/step - loss: 0.6099 - acc: 0.7792 - val_loss: 1.1857 - val_acc: 0.6790\n",
            "\n",
            "Epoch 00053: val_acc did not improve from 0.78756\n",
            "Epoch 54/100\n",
            "71/71 [==============================] - 45s 638ms/step - loss: 0.7090 - acc: 0.7516 - val_loss: 1.1696 - val_acc: 0.6632\n",
            "\n",
            "Epoch 00054: val_acc did not improve from 0.78756\n",
            "Epoch 55/100\n",
            "71/71 [==============================] - 46s 647ms/step - loss: 0.7871 - acc: 0.7149 - val_loss: 2.2282 - val_acc: 0.7346\n",
            "\n",
            "Epoch 00055: val_acc did not improve from 0.78756\n",
            "Epoch 56/100\n",
            "71/71 [==============================] - 48s 676ms/step - loss: 0.6341 - acc: 0.7633 - val_loss: 0.4549 - val_acc: 0.7824\n",
            "\n",
            "Epoch 00056: val_acc did not improve from 0.78756\n",
            "Epoch 57/100\n",
            "71/71 [==============================] - 47s 668ms/step - loss: 0.5644 - acc: 0.7898 - val_loss: 0.6684 - val_acc: 0.7461\n",
            "\n",
            "Epoch 00057: val_acc did not improve from 0.78756\n",
            "Epoch 58/100\n",
            "71/71 [==============================] - 49s 686ms/step - loss: 0.5293 - acc: 0.8009 - val_loss: 0.6573 - val_acc: 0.7407\n",
            "\n",
            "Epoch 00058: val_acc did not improve from 0.78756\n",
            "Epoch 59/100\n",
            "71/71 [==============================] - 47s 660ms/step - loss: 0.5135 - acc: 0.8090 - val_loss: 0.9359 - val_acc: 0.7668\n",
            "\n",
            "Epoch 00059: val_acc did not improve from 0.78756\n",
            "Epoch 60/100\n",
            "71/71 [==============================] - 46s 643ms/step - loss: 0.7110 - acc: 0.7529 - val_loss: 0.1355 - val_acc: 0.6543\n",
            "\n",
            "Epoch 00060: val_acc did not improve from 0.78756\n",
            "Epoch 61/100\n",
            "71/71 [==============================] - 47s 664ms/step - loss: 0.8212 - acc: 0.6919 - val_loss: 0.6911 - val_acc: 0.7306\n",
            "\n",
            "Epoch 00061: val_acc did not improve from 0.78756\n",
            "Epoch 62/100\n",
            "71/71 [==============================] - 48s 680ms/step - loss: 0.8093 - acc: 0.7136 - val_loss: 1.1712 - val_acc: 0.6114\n",
            "\n",
            "Epoch 00062: val_acc did not improve from 0.78756\n",
            "Epoch 63/100\n",
            "71/71 [==============================] - 49s 683ms/step - loss: 0.7324 - acc: 0.7358 - val_loss: 1.0491 - val_acc: 0.7160\n",
            "\n",
            "Epoch 00063: val_acc did not improve from 0.78756\n",
            "Epoch 64/100\n",
            "71/71 [==============================] - 46s 648ms/step - loss: 0.6325 - acc: 0.7783 - val_loss: 0.4771 - val_acc: 0.7358\n",
            "\n",
            "Epoch 00064: val_acc did not improve from 0.78756\n",
            "Epoch 65/100\n",
            "71/71 [==============================] - 45s 637ms/step - loss: 0.6200 - acc: 0.7639 - val_loss: 0.0917 - val_acc: 0.7160\n",
            "\n",
            "Epoch 00065: val_acc did not improve from 0.78756\n",
            "Epoch 66/100\n",
            "71/71 [==============================] - 45s 628ms/step - loss: 0.5898 - acc: 0.7828 - val_loss: 0.8000 - val_acc: 0.7358\n",
            "\n",
            "Epoch 00066: val_acc did not improve from 0.78756\n",
            "Epoch 67/100\n",
            "71/71 [==============================] - 46s 653ms/step - loss: 0.6866 - acc: 0.7471 - val_loss: 0.6067 - val_acc: 0.7513\n",
            "\n",
            "Epoch 00067: val_acc did not improve from 0.78756\n",
            "Epoch 68/100\n",
            "71/71 [==============================] - 48s 672ms/step - loss: 0.6248 - acc: 0.7692 - val_loss: 0.5602 - val_acc: 0.7469\n",
            "\n",
            "Epoch 00068: val_acc did not improve from 0.78756\n",
            "Epoch 69/100\n",
            "71/71 [==============================] - 45s 636ms/step - loss: 0.6059 - acc: 0.7959 - val_loss: 0.9904 - val_acc: 0.7565\n",
            "\n",
            "Epoch 00069: val_acc did not improve from 0.78756\n",
            "Epoch 70/100\n",
            "71/71 [==============================] - 47s 664ms/step - loss: 0.5839 - acc: 0.7836 - val_loss: 0.3838 - val_acc: 0.7037\n",
            "\n",
            "Epoch 00070: val_acc did not improve from 0.78756\n",
            "Epoch 71/100\n",
            "71/71 [==============================] - 45s 635ms/step - loss: 0.5262 - acc: 0.7953 - val_loss: 0.5945 - val_acc: 0.7565\n",
            "\n",
            "Epoch 00071: val_acc did not improve from 0.78756\n",
            "Epoch 72/100\n",
            "71/71 [==============================] - 47s 657ms/step - loss: 0.4667 - acc: 0.8226 - val_loss: 0.5135 - val_acc: 0.7668\n",
            "\n",
            "Epoch 00072: val_acc did not improve from 0.78756\n",
            "Epoch 73/100\n",
            "71/71 [==============================] - 49s 684ms/step - loss: 0.5259 - acc: 0.8090 - val_loss: 0.5977 - val_acc: 0.7160\n",
            "\n",
            "Epoch 00073: val_acc did not improve from 0.78756\n",
            "Epoch 74/100\n",
            "71/71 [==============================] - 47s 659ms/step - loss: 0.4716 - acc: 0.8249 - val_loss: 0.5179 - val_acc: 0.7824\n",
            "\n",
            "Epoch 00074: val_acc did not improve from 0.78756\n",
            "Epoch 75/100\n",
            "71/71 [==============================] - 45s 634ms/step - loss: 0.5275 - acc: 0.8122 - val_loss: 0.0031 - val_acc: 0.8086\n",
            "\n",
            "Epoch 00075: val_acc improved from 0.78756 to 0.80864, saving model to trained_model.h5\n",
            "Epoch 76/100\n",
            "71/71 [==============================] - 47s 660ms/step - loss: 0.4621 - acc: 0.8309 - val_loss: 0.3648 - val_acc: 0.7824\n",
            "\n",
            "Epoch 00076: val_acc did not improve from 0.80864\n",
            "Epoch 77/100\n",
            "71/71 [==============================] - 47s 666ms/step - loss: 0.5874 - acc: 0.7968 - val_loss: 0.6307 - val_acc: 0.7358\n",
            "\n",
            "Epoch 00077: val_acc did not improve from 0.80864\n",
            "Epoch 78/100\n",
            "71/71 [==============================] - 48s 674ms/step - loss: 0.5883 - acc: 0.8104 - val_loss: 0.8011 - val_acc: 0.7099\n",
            "\n",
            "Epoch 00078: val_acc did not improve from 0.80864\n",
            "Epoch 79/100\n",
            "71/71 [==============================] - 47s 661ms/step - loss: 1.0074 - acc: 0.6462 - val_loss: 0.9041 - val_acc: 0.6477\n",
            "\n",
            "Epoch 00079: val_acc did not improve from 0.80864\n",
            "Epoch 80/100\n",
            "71/71 [==============================] - 47s 666ms/step - loss: 0.6996 - acc: 0.7573 - val_loss: 0.0802 - val_acc: 0.7037\n",
            "\n",
            "Epoch 00080: val_acc did not improve from 0.80864\n",
            "Epoch 81/100\n",
            "71/71 [==============================] - 48s 670ms/step - loss: 0.7466 - acc: 0.7389 - val_loss: 0.7834 - val_acc: 0.7254\n",
            "\n",
            "Epoch 00081: val_acc did not improve from 0.80864\n",
            "Epoch 82/100\n",
            "71/71 [==============================] - 46s 646ms/step - loss: 0.6658 - acc: 0.7728 - val_loss: 0.7712 - val_acc: 0.7047\n",
            "\n",
            "Epoch 00082: val_acc did not improve from 0.80864\n",
            "Epoch 83/100\n",
            "71/71 [==============================] - 48s 683ms/step - loss: 0.6146 - acc: 0.7751 - val_loss: 0.6426 - val_acc: 0.7469\n",
            "\n",
            "Epoch 00083: val_acc did not improve from 0.80864\n",
            "Epoch 84/100\n",
            "71/71 [==============================] - 45s 637ms/step - loss: 0.5112 - acc: 0.8118 - val_loss: 0.7151 - val_acc: 0.7150\n",
            "\n",
            "Epoch 00084: val_acc did not improve from 0.80864\n",
            "Epoch 85/100\n",
            "71/71 [==============================] - 47s 666ms/step - loss: 0.6016 - acc: 0.7946 - val_loss: 1.2444 - val_acc: 0.7840\n",
            "\n",
            "Epoch 00085: val_acc did not improve from 0.80864\n",
            "Epoch 86/100\n",
            "71/71 [==============================] - 48s 673ms/step - loss: 0.5043 - acc: 0.8255 - val_loss: 0.7868 - val_acc: 0.6943\n",
            "\n",
            "Epoch 00086: val_acc did not improve from 0.80864\n",
            "Epoch 87/100\n",
            "71/71 [==============================] - 45s 631ms/step - loss: 0.5735 - acc: 0.8036 - val_loss: 1.0769 - val_acc: 0.7461\n",
            "\n",
            "Epoch 00087: val_acc did not improve from 0.80864\n",
            "Epoch 88/100\n",
            "71/71 [==============================] - 47s 666ms/step - loss: 0.5227 - acc: 0.8154 - val_loss: 0.6914 - val_acc: 0.7160\n",
            "\n",
            "Epoch 00088: val_acc did not improve from 0.80864\n",
            "Epoch 89/100\n",
            "71/71 [==============================] - 46s 643ms/step - loss: 0.5070 - acc: 0.8199 - val_loss: 0.6944 - val_acc: 0.7565\n",
            "\n",
            "Epoch 00089: val_acc did not improve from 0.80864\n",
            "Epoch 90/100\n",
            "71/71 [==============================] - 46s 653ms/step - loss: 0.4845 - acc: 0.8282 - val_loss: 0.0053 - val_acc: 0.7469\n",
            "\n",
            "Epoch 00090: val_acc did not improve from 0.80864\n",
            "Epoch 91/100\n",
            "71/71 [==============================] - 48s 671ms/step - loss: 0.4752 - acc: 0.8330 - val_loss: 0.6989 - val_acc: 0.7254\n",
            "\n",
            "Epoch 00091: val_acc did not improve from 0.80864\n",
            "Epoch 92/100\n",
            "71/71 [==============================] - 46s 649ms/step - loss: 0.4559 - acc: 0.8367 - val_loss: 0.7319 - val_acc: 0.7772\n",
            "\n",
            "Epoch 00092: val_acc did not improve from 0.80864\n",
            "Epoch 93/100\n",
            "71/71 [==============================] - 48s 680ms/step - loss: 0.4370 - acc: 0.8299 - val_loss: 0.9559 - val_acc: 0.7284\n",
            "\n",
            "Epoch 00093: val_acc did not improve from 0.80864\n",
            "Epoch 94/100\n",
            "71/71 [==============================] - 46s 652ms/step - loss: 0.4278 - acc: 0.8434 - val_loss: 0.7654 - val_acc: 0.7617\n",
            "\n",
            "Epoch 00094: val_acc did not improve from 0.80864\n",
            "Epoch 95/100\n",
            "71/71 [==============================] - 47s 664ms/step - loss: 0.4313 - acc: 0.8385 - val_loss: 0.0385 - val_acc: 0.7222\n",
            "\n",
            "Epoch 00095: val_acc did not improve from 0.80864\n",
            "Epoch 96/100\n",
            "71/71 [==============================] - 47s 662ms/step - loss: 0.4769 - acc: 0.8394 - val_loss: 0.8132 - val_acc: 0.7513\n",
            "\n",
            "Epoch 00096: val_acc did not improve from 0.80864\n",
            "Epoch 97/100\n",
            "71/71 [==============================] - 47s 657ms/step - loss: 0.4267 - acc: 0.8493 - val_loss: 0.4467 - val_acc: 0.8135\n",
            "\n",
            "Epoch 00097: val_acc improved from 0.80864 to 0.81347, saving model to trained_model.h5\n",
            "Epoch 98/100\n",
            "71/71 [==============================] - 46s 650ms/step - loss: 0.4055 - acc: 0.8412 - val_loss: 0.6888 - val_acc: 0.7963\n",
            "\n",
            "Epoch 00098: val_acc did not improve from 0.81347\n",
            "Epoch 99/100\n",
            "71/71 [==============================] - 45s 637ms/step - loss: 0.4159 - acc: 0.8511 - val_loss: 0.5007 - val_acc: 0.8238\n",
            "\n",
            "Epoch 00099: val_acc improved from 0.81347 to 0.82383, saving model to trained_model.h5\n",
            "Epoch 100/100\n",
            "71/71 [==============================] - 48s 672ms/step - loss: 0.4314 - acc: 0.8465 - val_loss: 3.8146e-05 - val_acc: 0.7407\n",
            "\n",
            "Epoch 00100: val_acc did not improve from 0.82383\n"
          ],
          "name": "stdout"
        }
      ]
    },
    {
      "cell_type": "code",
      "metadata": {
        "id": "IJIrkA1nPiFG",
        "colab": {
          "base_uri": "https://localhost:8080/",
          "height": 298
        },
        "outputId": "353106b3-9d52-48e1-eb62-7b2e60622e00"
      },
      "source": [
        "from keras.preprocessing import image\n",
        "\n",
        "img_path = '/content/drive/My Drive/Colab Notebooks/Dataset/test_set/glass/glass82.jpg'\n",
        "\n",
        "img = image.load_img(img_path, target_size=(300, 300))\n",
        "img = image.img_to_array(img, dtype=np.uint8)\n",
        "img=np.array(img)/255.0\n",
        "\n",
        "plt.title(\"Loaded Image\")\n",
        "plt.axis('off')\n",
        "plt.imshow(img.squeeze())\n",
        "\n",
        "p=model.predict(img[np.newaxis, ...])\n",
        "\n",
        "#print(\"Predicted shape\",p.shape)\n",
        "print(\"Maximum Probability: \",np.max(p[0], axis=-1))\n",
        "predicted_class = labels[np.argmax(p[0], axis=-1)]\n",
        "print(\"Classified:\",predicted_class)"
      ],
      "execution_count": null,
      "outputs": [
        {
          "output_type": "stream",
          "text": [
            "Maximum Probability:  0.9222126\n",
            "Classified: glass\n"
          ],
          "name": "stdout"
        },
        {
          "output_type": "display_data",
          "data": {
            "image/png": "[encoded data removed]",
            "text/plain": [
              "<Figure size 432x288 with 1 Axes>"
            ]
          },
          "metadata": {
            "tags": [],
            "needs_background": "light"
          }
        }
      ]
    }
  ]
}